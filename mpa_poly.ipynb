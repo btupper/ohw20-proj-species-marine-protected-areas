{
 "cells": [
  {
   "cell_type": "markdown",
   "metadata": {},
   "source": [
    "## NOAA MPA polygons\n",
    "\n",
    "### Get them and save them in your home directory\n",
    "\n",
    "First we get the polygons from NOAA and save them in our home directories. I'm thinking we might want to use the newer (2020) set of polygons.  I put it in an if-block so you won't accidentally run this twice (which is not a problem but may annoy you.)"
   ]
  },
  {
   "cell_type": "code",
   "execution_count": 42,
   "metadata": {},
   "outputs": [],
   "source": [
    "source(\"get_mpa_poly.R\")\n",
    "home_path <- normalizePath(\"~\")\n",
    "if (!dir.exists(file.path(home_path, \"NOAA_MPAI_2020_IUCN_gdb/NOAA_MPAI_v2020.gdb\"))){\n",
    "    ok <- download_noaa_mpa(dest_dir = home_path)\n",
    "    if (ok != 0) stop(\"something went wrong\")\n",
    "}"
   ]
  },
  {
   "cell_type": "markdown",
   "metadata": {},
   "source": [
    "Now we can read in the polygons - set the site_id argument to all to read them all.  But for the sake of an example, we will susequently select those within the Gulf of Maine bounding box that matches the OBPG toy dataset."
   ]
  },
  {
   "cell_type": "code",
   "execution_count": 55,
   "metadata": {},
   "outputs": [
    {
     "name": "stderr",
     "output_type": "stream",
     "text": [
      "POLYGON ((-72 39, -63 39, -63 46, -72 46, -72 39))\n",
      "\n",
      "ERROR while rich displaying an object: Error in loadNamespace(name): there is no package called ‘geojsonio’\n",
      "\n",
      "Traceback:\n",
      "1. FUN(X[[i]], ...)\n",
      "2. tryCatch(withCallingHandlers({\n",
      " .     if (!mime %in% names(repr::mime2repr)) \n",
      " .         stop(\"No repr_* for mimetype \", mime, \" in repr::mime2repr\")\n",
      " .     rpr <- repr::mime2repr[[mime]](obj)\n",
      " .     if (is.null(rpr)) \n",
      " .         return(NULL)\n",
      " .     prepare_content(is.raw(rpr), rpr)\n",
      " . }, error = error_handler), error = outer_handler)\n",
      "3. tryCatchList(expr, classes, parentenv, handlers)\n",
      "4. tryCatchOne(expr, names, parentenv, handlers[[1L]])\n",
      "5. doTryCatch(return(expr), name, parentenv, handler)\n",
      "6. withCallingHandlers({\n",
      " .     if (!mime %in% names(repr::mime2repr)) \n",
      " .         stop(\"No repr_* for mimetype \", mime, \" in repr::mime2repr\")\n",
      " .     rpr <- repr::mime2repr[[mime]](obj)\n",
      " .     if (is.null(rpr)) \n",
      " .         return(NULL)\n",
      " .     prepare_content(is.raw(rpr), rpr)\n",
      " . }, error = error_handler)\n",
      "7. repr::mime2repr[[mime]](obj)\n",
      "8. repr_geojson.sfc(obj)\n",
      "9. repr_geojson(geojsonio::geojson_list(obj), ...)\n",
      "10. geojsonio::geojson_list\n",
      "11. getExportedValue(pkg, name)\n",
      "12. asNamespace(ns)\n",
      "13. getNamespace(ns)\n",
      "14. loadNamespace(name)\n",
      "15. withRestarts(stop(cond), retry_loadNamespace = function() NULL)\n",
      "16. withOneRestart(expr, restarts[[1L]])\n",
      "17. doWithOneRestart(return(expr), restart)\n"
     ]
    },
    {
     "data": {
      "text/plain": [
       "Geometry set for 1 feature \n",
       "geometry type:  POLYGON\n",
       "dimension:      XY\n",
       "bbox:           xmin: -72 ymin: 39 xmax: -63 ymax: 46\n",
       "geographic CRS: WGS 84"
      ]
     },
     "metadata": {},
     "output_type": "display_data"
    }
   ],
   "source": [
    "library(sf)\n",
    "library(dplyr)\n",
    "\n",
    "# https://rdrr.io/cran/sf/man/st_bbox.html\n",
    "BB <- c(xmin = -72, xmax = -63, ymin = 39, ymax = 46)\n",
    "BB_box <- sf::st_bbox(BB, crs = st_crs(4326))\n",
    "BB_poly <- sf::st_as_sfc(BB_box, crs = st_crs(4326))\n",
    "BB_poly"
   ]
  },
  {
   "cell_type": "code",
   "execution_count": 48,
   "metadata": {},
   "outputs": [],
   "source": [
    "MPA <- read_noaa_mpa(site_id = \"all\") "
   ]
  },
  {
   "cell_type": "code",
   "execution_count": 56,
   "metadata": {},
   "outputs": [
    {
     "name": "stderr",
     "output_type": "stream",
     "text": [
      "although coordinates are longitude/latitude, st_intersection assumes that they are planar\n",
      "\n"
     ]
    },
    {
     "ename": "ERROR",
     "evalue": "Error in CPL_geos_op2(op, x, y): Evaluation error: ParseException: Unknown WKB type 12.\n",
     "output_type": "error",
     "traceback": [
      "Error in CPL_geos_op2(op, x, y): Evaluation error: ParseException: Unknown WKB type 12.\nTraceback:\n",
      "1. MPA %>% sf::st_intersection(BB_poly)",
      "2. withVisible(eval(quote(`_fseq`(`_lhs`)), env, env))",
      "3. eval(quote(`_fseq`(`_lhs`)), env, env)",
      "4. eval(quote(`_fseq`(`_lhs`)), env, env)",
      "5. `_fseq`(`_lhs`)",
      "6. freduce(value, `_function_list`)",
      "7. withVisible(function_list[[k]](value))",
      "8. function_list[[k]](value)",
      "9. sf::st_intersection(., BB_poly)",
      "10. st_intersection.sf(., BB_poly)",
      "11. geos_op2_df(x, y, geos_op2_geom(\"intersection\", x, y))",
      "12. geos_op2_geom(\"intersection\", x, y)",
      "13. st_sfc(CPL_geos_op2(op, x, y), crs = st_crs(x))",
      "14. CPL_geos_op2(op, x, y)"
     ]
    }
   ],
   "source": [
    "mpa <- MPA %>%\n",
    "    sf::st_intersection(BB_poly)"
   ]
  },
  {
   "cell_type": "code",
   "execution_count": 50,
   "metadata": {},
   "outputs": [
    {
     "data": {
      "text/plain": [
       "      xmin       ymin       xmax       ymax \n",
       "-180.00000  -15.38614  179.99984   70.16978 "
      ]
     },
     "metadata": {},
     "output_type": "display_data"
    }
   ],
   "source": [
    "st_bbox(MPA)"
   ]
  },
  {
   "cell_type": "code",
   "execution_count": null,
   "metadata": {},
   "outputs": [],
   "source": []
  }
 ],
 "metadata": {
  "kernelspec": {
   "display_name": "R [conda env:notebook] *",
   "language": "R",
   "name": "conda-env-notebook-r"
  },
  "language_info": {
   "codemirror_mode": "r",
   "file_extension": ".r",
   "mimetype": "text/x-r-source",
   "name": "R",
   "pygments_lexer": "r",
   "version": "3.6.3"
  }
 },
 "nbformat": 4,
 "nbformat_minor": 4
}
